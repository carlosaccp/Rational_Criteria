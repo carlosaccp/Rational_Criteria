{
 "cells": [
  {
   "cell_type": "markdown",
   "metadata": {},
   "source": [
    "# Implementation of \"Rational Criteria for Diagonalizability of Real Matrices\"\n",
    "## Carlos A.C.C. Perello (Imperial College London)\n",
    "## Original work by João Ferreira Alves (ULisboa IST)"
   ]
  },
  {
   "cell_type": "code",
   "execution_count": 2,
   "metadata": {},
   "outputs": [],
   "source": [
    "using LinearAlgebra"
   ]
  },
  {
   "cell_type": "code",
   "execution_count": 27,
   "metadata": {},
   "outputs": [
    {
     "ename": "MethodError",
     "evalue": "MethodError: no method matching ^(::Matrix{Float64}, ::UnitRange{Int64})\nClosest candidates are:\n  ^(::AbstractMatrix, !Matched::Integer) at /Applications/Julia-1.7.app/Contents/Resources/julia/share/julia/stdlib/v1.7/LinearAlgebra/src/dense.jl:445\n  ^(::AbstractMatrix{T}, !Matched::Real) where T at /Applications/Julia-1.7.app/Contents/Resources/julia/share/julia/stdlib/v1.7/LinearAlgebra/src/dense.jl:488\n  ^(::AbstractMatrix, !Matched::Number) at /Applications/Julia-1.7.app/Contents/Resources/julia/share/julia/stdlib/v1.7/LinearAlgebra/src/dense.jl:529",
     "output_type": "error",
     "traceback": [
      "MethodError: no method matching ^(::Matrix{Float64}, ::UnitRange{Int64})\n",
      "Closest candidates are:\n",
      "  ^(::AbstractMatrix, !Matched::Integer) at /Applications/Julia-1.7.app/Contents/Resources/julia/share/julia/stdlib/v1.7/LinearAlgebra/src/dense.jl:445\n",
      "  ^(::AbstractMatrix{T}, !Matched::Real) where T at /Applications/Julia-1.7.app/Contents/Resources/julia/share/julia/stdlib/v1.7/LinearAlgebra/src/dense.jl:488\n",
      "  ^(::AbstractMatrix, !Matched::Number) at /Applications/Julia-1.7.app/Contents/Resources/julia/share/julia/stdlib/v1.7/LinearAlgebra/src/dense.jl:529\n",
      "\n",
      "Stacktrace:\n",
      " [1] top-level scope\n",
      "   @ ~/Desktop/Rational_Criteria/demo.ipynb:1"
     ]
    }
   ],
   "source": []
  },
  {
   "cell_type": "code",
   "execution_count": 89,
   "metadata": {},
   "outputs": [
    {
     "data": {
      "text/plain": [
       "frob_ip (generic function with 1 method)"
      ]
     },
     "metadata": {},
     "output_type": "display_data"
    }
   ],
   "source": [
    "function frob_ip(A,B)\n",
    "    ret = tr(A*B')\n",
    "    ret\n",
    "end"
   ]
  },
  {
   "cell_type": "code",
   "execution_count": 90,
   "metadata": {},
   "outputs": [
    {
     "data": {
      "text/plain": [
       "Lₚ (generic function with 1 method)"
      ]
     },
     "metadata": {},
     "output_type": "display_data"
    }
   ],
   "source": [
    "function Kₚ(A, p)\n",
    "    mat = zeros(p,p)\n",
    "    row = [A^i for i = 0:p-1]\n",
    "    for i = 1:p\n",
    "        mat[i,:] = tr.(row)\n",
    "        row = [A*r for r in row] \n",
    "    end\n",
    "    mat\n",
    "end\n",
    "\n",
    "function Lₚ(A, p)\n",
    "    mat = zeros(p, p)\n",
    "    row = [A'^i for i = 0:p-1]\n",
    "    for i = 1:p\n",
    "        mat[i,:] = tr.(row)\n",
    "        row = [A*r for r in row]\n",
    "    end\n",
    "    mat\n",
    "end"
   ]
  },
  {
   "cell_type": "code",
   "execution_count": 131,
   "metadata": {},
   "outputs": [
    {
     "data": {
      "text/plain": [
       "10"
      ]
     },
     "metadata": {},
     "output_type": "display_data"
    }
   ],
   "source": [
    "function r(A)\n",
    "    for p=1:size(A)[1]\n",
    "        if det(Kₚ(A, p)) ≤ 0\n",
    "            return p\n",
    "        end\n",
    "    end\n",
    "end\n",
    "\n",
    "r(Diagonal(1:12))\n"
   ]
  },
  {
   "cell_type": "code",
   "execution_count": null,
   "metadata": {},
   "outputs": [],
   "source": []
  }
 ],
 "metadata": {
  "kernelspec": {
   "display_name": "Julia 1.7.1",
   "language": "julia",
   "name": "julia-1.7"
  },
  "language_info": {
   "file_extension": ".jl",
   "mimetype": "application/julia",
   "name": "julia",
   "version": "1.7.1"
  },
  "orig_nbformat": 4
 },
 "nbformat": 4,
 "nbformat_minor": 2
}
