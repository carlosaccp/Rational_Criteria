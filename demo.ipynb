{
 "cells": [
  {
   "cell_type": "markdown",
   "metadata": {},
   "source": [
    "# Implementation of \"Rational Criteria for Diagonalizability of Real Matrices\"\n",
    "## Carlos A.C.C. Perello (Imperial College London)\n",
    "## Original work by João Ferreira Alves (ULisboa IST)"
   ]
  },
  {
   "cell_type": "code",
   "execution_count": 2,
   "metadata": {},
   "outputs": [],
   "source": [
    "using LinearAlgebra"
   ]
  },
  {
   "cell_type": "markdown",
   "metadata": {},
   "source": [
    "We implement the Frobenius inner product of $A, B$:\n",
    "$$\n",
    "\\langle A, B\\rangle = \\text{tr}(AB^*)\n",
    "$$"
   ]
  },
  {
   "cell_type": "code",
   "execution_count": 89,
   "metadata": {},
   "outputs": [
    {
     "data": {
      "text/plain": [
       "frob_ip (generic function with 1 method)"
      ]
     },
     "metadata": {},
     "output_type": "display_data"
    }
   ],
   "source": [
    "function frob_ip(A,B)\n",
    "    ret = tr(A*B')\n",
    "    ret\n",
    "end"
   ]
  },
  {
   "cell_type": "markdown",
   "metadata": {},
   "source": [
    "We now implement the matrix $K_p(A)$:\n",
    "$$\n",
    "K_p(A) := [\\text{tr}(A^{i+j-2})]_{i,j=1}^p = \\begin{pmatrix}\n",
    "\\text{tr}(A^0) & \\text{tr}(A^1) & \\dots & \\text{tr}(A^{p-1})\\\\\n",
    "\\text{tr}(A^1) & \\text{tr}(A^2) & \\dots & \\text{tr}(A^{p})\\\\\n",
    "\\vdots & & \\ddots & \\vdots\\\\\n",
    "\\text{tr}(A^{p-1}) & \\text{tr}(A^{p}) & \\dots & \\text{tr}(A^{2p-2})\\\\\n",
    "\\end{pmatrix}\n",
    "$$\n",
    "\n",
    "And $L_p(A)$:\n",
    "$$\n",
    "L_p(A) := \\left[\\langle A^{i-1}, A^{j-1}\\rangle\\right]_{i,j=1}^p = \\begin{pmatrix}\n",
    "\\text{tr}((A^*)^0) & \\text{tr}((A^*)^1) & \\dots & \\text{tr}((A^*)^{p-1})\\\\\n",
    "\\text{tr}(A^1(A^*)^0) & \\text{tr}(A^1(A^*)1) & \\dots & \\text{tr}(A^1(A^*)^{p-1})\\\\\n",
    "\\vdots & & \\ddots & \\vdots\\\\\n",
    "\\text{tr}(A^{p-1}(A^*)^0) & \\text{tr}((A^{p-1}(A^*)^{1}) & \\dots & \\text{tr}(A^{p-1}(A^*)^{p-1})\\\\\n",
    "\\end{pmatrix}\n",
    "$$"
   ]
  },
  {
   "cell_type": "code",
   "execution_count": 143,
   "metadata": {},
   "outputs": [
    {
     "data": {
      "text/plain": [
       "Lₚ (generic function with 1 method)"
      ]
     },
     "metadata": {},
     "output_type": "display_data"
    }
   ],
   "source": [
    "function Kₚ(A, p)\n",
    "    mat = zeros(p,p)\n",
    "    row = [A^i for i = 0:p-1]\n",
    "    for i = 1:p\n",
    "        mat[i,:] = tr.(row)\n",
    "        row = [A*r for r in row] \n",
    "    end\n",
    "    mat\n",
    "end\n",
    "\n",
    "function innefficient_Kₚ(A, p)\n",
    "    mat = zeros(p,p)\n",
    "    for i = 1:p\n",
    "        for j = 1:p\n",
    "            mat[i,j] = frob_ip(A^(i-1), (A')^(j-1))\n",
    "        end\n",
    "    end\n",
    "    mat\n",
    "end\n",
    "\n",
    "function Lₚ(A, p)\n",
    "    mat = zeros(p, p)\n",
    "    row = [A'^i for i = 0:p-1]\n",
    "    for i = 1:p\n",
    "        mat[i,:] = tr.(row)\n",
    "        row = [A*r for r in row]\n",
    "    end\n",
    "    mat\n",
    "end"
   ]
  },
  {
   "cell_type": "markdown",
   "metadata": {},
   "source": [
    "And now we implement the invariant $r$:\n",
    "$$\n",
    "r := \\min\\{p=1,\\dots,n: |K_{p+1}(A)|\\leq 0\\}\n",
    "$$"
   ]
  },
  {
   "cell_type": "code",
   "execution_count": 191,
   "metadata": {},
   "outputs": [
    {
     "data": {
      "text/plain": [
       "10×10 Matrix{Float64}:\n",
       "     12.0            78.0         …  7.33994e7   8.12072e8    9.09203e9\n",
       "     78.0           650.0            8.12072e8   9.09203e9    1.02769e11\n",
       "    650.0          6084.0            9.09203e9   1.02769e11   1.17068e12\n",
       "   6084.0         60710.0            1.02769e11  1.17068e12   1.3422e13\n",
       "  60710.0        630708.0            1.17068e12  1.3422e13    1.54719e14\n",
       " 630708.0             6.73595e6   …  1.3422e13   1.54719e14   1.79171e15\n",
       "      6.73595e6       7.33994e7      1.54719e14  1.79171e15   2.08306e16\n",
       "      7.33994e7       8.12072e8      1.79171e15  2.08306e16   2.43005e17\n",
       "      8.12072e8       9.09203e9      2.08306e16  2.43005e17   2.84324e18\n",
       "      9.09203e9       1.02769e11     2.43005e17  2.84324e18  -3.54039e18"
      ]
     },
     "metadata": {},
     "output_type": "display_data"
    }
   ],
   "source": [
    "function r(A)\n",
    "    n = size(A)[1]\n",
    "    for p=1:n+1\n",
    "        if det(Kₚ(A, p+1)) ≤ -1e-3\n",
    "            return p\n",
    "        end\n",
    "    end\n",
    "    \n",
    "end\n",
    "\n",
    "D = Diagonal(1:12)\n",
    "r(D)\n",
    "Kₚ(D, 10)"
   ]
  },
  {
   "cell_type": "code",
   "execution_count": null,
   "metadata": {},
   "outputs": [],
   "source": []
  }
 ],
 "metadata": {
  "kernelspec": {
   "display_name": "Julia 1.7.1",
   "language": "julia",
   "name": "julia-1.7"
  },
  "language_info": {
   "file_extension": ".jl",
   "mimetype": "application/julia",
   "name": "julia",
   "version": "1.7.1"
  },
  "orig_nbformat": 4
 },
 "nbformat": 4,
 "nbformat_minor": 2
}
