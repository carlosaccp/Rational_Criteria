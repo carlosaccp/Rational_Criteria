{
 "cells": [
  {
   "cell_type": "markdown",
   "metadata": {},
   "source": [
    "# Implementation of \"Rational Criteria for Diagonalizability of Real Matrices\"\n",
    "## Carlos A.C.C. Perello (Imperial College London)\n",
    "## Original work by João Ferreira Alves (ULisboa IST)"
   ]
  },
  {
   "cell_type": "code",
   "execution_count": 239,
   "metadata": {},
   "outputs": [],
   "source": [
    "using LinearAlgebra, Polynomials, Nemo"
   ]
  },
  {
   "cell_type": "markdown",
   "metadata": {},
   "source": [
    "We implement the Frobenius inner product of $A, B$:\n",
    "$$\n",
    "\\langle A, B\\rangle = \\text{tr}(AB^*)\n",
    "$$"
   ]
  },
  {
   "cell_type": "code",
   "execution_count": 240,
   "metadata": {},
   "outputs": [
    {
     "data": {
      "text/plain": [
       "frob_ip (generic function with 1 method)"
      ]
     },
     "metadata": {},
     "output_type": "display_data"
    }
   ],
   "source": [
    "function frob_ip(A,B)\n",
    "    ret = tr(A*B')\n",
    "    ret\n",
    "end"
   ]
  },
  {
   "cell_type": "markdown",
   "metadata": {},
   "source": [
    "We now implement the matrix $K_p(A)$:\n",
    "$$\n",
    "K_p(A) := [\\text{tr}(A^{i+j-2})]_{i,j=1}^p = \\begin{pmatrix}\n",
    "\\text{tr}(A^0) & \\text{tr}(A^1) & \\dots & \\text{tr}(A^{p-1})\\\\\n",
    "\\text{tr}(A^1) & \\text{tr}(A^2) & \\dots & \\text{tr}(A^{p})\\\\\n",
    "\\vdots & & \\ddots & \\vdots\\\\\n",
    "\\text{tr}(A^{p-1}) & \\text{tr}(A^{p}) & \\dots & \\text{tr}(A^{2p-2})\\\\\n",
    "\\end{pmatrix}\n",
    "$$\n",
    "\n",
    "And $L_p(A)$:\n",
    "$$\n",
    "L_p(A) := \\left[\\langle A^{i-1}, A^{j-1}\\rangle\\right]_{i,j=1}^p = \\begin{pmatrix}\n",
    "\\text{tr}((A^*)^0) & \\text{tr}((A^*)^1) & \\dots & \\text{tr}((A^*)^{p-1})\\\\\n",
    "\\text{tr}(A^1(A^*)^0) & \\text{tr}(A^1(A^*)1) & \\dots & \\text{tr}(A^1(A^*)^{p-1})\\\\\n",
    "\\vdots & & \\ddots & \\vdots\\\\\n",
    "\\text{tr}(A^{p-1}(A^*)^0) & \\text{tr}((A^{p-1}(A^*)^{1}) & \\dots & \\text{tr}(A^{p-1}(A^*)^{p-1})\\\\\n",
    "\\end{pmatrix}\n",
    "$$"
   ]
  },
  {
   "cell_type": "code",
   "execution_count": 291,
   "metadata": {},
   "outputs": [
    {
     "data": {
      "text/plain": [
       "Lₚ (generic function with 1 method)"
      ]
     },
     "metadata": {},
     "output_type": "display_data"
    }
   ],
   "source": [
    "function Kₚ(A, p)\n",
    "    A = Matrix{BigFloat}(A)\n",
    "    mat = zeros(p,p)\n",
    "    row = [A^i for i = 0:p-1]\n",
    "    for i = 1:p\n",
    "        mat[i,:] = Array{BigFloat}(tr.(row))\n",
    "        row = [A*r for r in row]\n",
    "    end\n",
    "    mat\n",
    "end\n",
    "\n",
    "function inefficient_Kₚ(A, p)\n",
    "    mat = zeros(p,p)\n",
    "    for i = 1:p\n",
    "        for j = 1:p\n",
    "            mat[i,j] = tr(A^(i+j-2))\n",
    "        end\n",
    "    end\n",
    "    mat\n",
    "end\n",
    "\n",
    "function Lₚ(A, p)\n",
    "    mat = zeros(p, p)\n",
    "    row = [A'^i for i = 0:p-1]\n",
    "    for i = 1:p\n",
    "        mat[i,:] = tr.(row)\n",
    "        row = [A*r for r in row]\n",
    "    end\n",
    "    mat\n",
    "end"
   ]
  },
  {
   "cell_type": "markdown",
   "metadata": {},
   "source": [
    "And now we implement the invariant $r$:\n",
    "$$\n",
    "r := \\min\\{p=1,\\dots,n: |K_{p+1}(A)|\\leq 0\\}\n",
    "$$"
   ]
  },
  {
   "cell_type": "code",
   "execution_count": 320,
   "metadata": {},
   "outputs": [
    {
     "data": {
      "text/plain": [
       "6"
      ]
     },
     "metadata": {},
     "output_type": "display_data"
    }
   ],
   "source": [
    "function r_func(A)\n",
    "    # this is the problem\n",
    "    A = Matrix{BigFloat}(A)\n",
    "    n = size(A)[1]\n",
    "    ret = 0\n",
    "    for p=1:n\n",
    "        if det(Kₚ(A, p+1)) ≤ 1e-5 || det(Kₚ(A, p+1)) ≥ 1e-5\n",
    "            ret = p\n",
    "        end\n",
    "    end\n",
    "    ret\n",
    "end\n",
    "\n",
    "test_mat = Diagonal(1:0.5:3.5)\n",
    "n = size(test_mat)[1]\n",
    "\n",
    "r_func(test_mat)\n",
    "# sometimes we see overflow\n",
    "# In a distrinct diagonal matrix, there are n distinct eigenvalues #\n",
    "# Why is the determinant of Kₚ(D,10) < 0, when the paper states it shouldn't be the case? \n",
    "# Is it due to numerical error / not using BigFloats?"
   ]
  },
  {
   "cell_type": "markdown",
   "metadata": {},
   "source": [
    "Implement Theorem 2.2: if $d$ is the number of distinct eigenvalues of $A$, and $d_\\mathbb{R}$ is the number of distinct real eigenvalues of $A$, we have:\n",
    "$$\n",
    "d = \\text{rank}(K_n(A)), \\quad d_\\mathbb{R} = \\text{signature}(K_n(A))\n",
    "$$\n",
    "\n",
    "Moreover, if $A$ is nonsingular and if we define $V(A)$ to be the number of sign variations in the determinants of $K_r(A), \\dots, K_d(A)$, we have:\n",
    "$$\n",
    "d_{\\mathbb{R}} = d - 2V(A)\n",
    "$$"
   ]
  },
  {
   "cell_type": "code",
   "execution_count": 321,
   "metadata": {},
   "outputs": [
    {
     "data": {
      "text/plain": [
       "faster_dr (generic function with 1 method)"
      ]
     },
     "metadata": {},
     "output_type": "display_data"
    }
   ],
   "source": [
    "function fast_d(A)\n",
    "    n = size(A)[1]\n",
    "    ret = rank(Kₚ(A, n))\n",
    "    ret\n",
    "end\n",
    "\n",
    "function fast_dr(A)\n",
    "    ret = sum(eigvals(A) > 0) - sum(eigvals(A) < 0)\n",
    "    ret\n",
    "end\n",
    "\n",
    "function V(A)\n",
    "    variations = 0\n",
    "    r = r_func(A)\n",
    "    d = fast_d(A)\n",
    "    prev_sgn = sign(det(Kₚ(A,r)))\n",
    "    for i = (r+1):d\n",
    "        sgn = sign(det(Kₚ(A,i)))\n",
    "        if prev_sgn != sgn\n",
    "            variations = variations + 1\n",
    "        end\n",
    "        prev_sgn = sgn\n",
    "    end\n",
    "end\n",
    "\n",
    "function faster_dr(A)\n",
    "    if det(A) == 0\n",
    "        DomainError(A, \"input must be nonsingular\")\n",
    "    end\n",
    "    ret = fast_d(A) - 2*V(A)\n",
    "    ret\n",
    "end"
   ]
  },
  {
   "cell_type": "markdown",
   "metadata": {},
   "source": [
    "Theorem 2.3 is hard to implement, as there are no ways to calculate $m$, the degreen of the minimal polynomial of $A$, using Julia."
   ]
  },
  {
   "cell_type": "markdown",
   "metadata": {},
   "source": [
    "We implement Theorem 3.1, which states that a matrix $A$ is diagonalisable $\\iff$ $|K_{r+1}(A)| = |L_{r+1}(A)|$, where $r$ is the invariant defined above. We also imlpement the corollary"
   ]
  },
  {
   "cell_type": "code",
   "execution_count": 322,
   "metadata": {},
   "outputs": [
    {
     "data": {
      "text/plain": [
       "true"
      ]
     },
     "metadata": {},
     "output_type": "display_data"
    }
   ],
   "source": [
    "function is_diag(A)\n",
    "    r = r_func(A)\n",
    "    dK = det(Kₚ(A, r+1))\n",
    "    if dK < 0\n",
    "        return false\n",
    "    end\n",
    "    ret = det(Lₚ(A, r+1)) ≈ dK\n",
    "    ret\n",
    "end\n",
    "\n",
    "is_diag(I(4)) # test"
   ]
  },
  {
   "cell_type": "markdown",
   "metadata": {},
   "source": [
    "We now implement Example 3.3; we first construct the $n\\times n$ square matrix:\n",
    "$$\n",
    "A = \\begin{pmatrix}\n",
    "1 & 1& \\dots & 1 & 1 & 1 & a\\\\\n",
    "1 & 1& \\dots & 1 & 1 & b & 1\\\\\n",
    "\\vdots & \\vdots& & \\vdots & \\vdots & \\vdots & \\vdots \\\\\\\n",
    "1 & a& \\dots & 1 & 1 & 1 & 1\\\\\n",
    "b & 1& \\dots & 1 & 1 & 1 & 1\\\\\n",
    "\\end{pmatrix}\n",
    "$$"
   ]
  },
  {
   "cell_type": "code",
   "execution_count": 323,
   "metadata": {},
   "outputs": [
    {
     "data": {
      "text/plain": [
       "false"
      ]
     },
     "metadata": {},
     "output_type": "display_data"
    }
   ],
   "source": [
    "function offd_mat(a, b, n)\n",
    "    if n%2 == 1\n",
    "        throw(DomainError(n, \"n must be even\"))\n",
    "    end\n",
    "    ret = ones(n, n)\n",
    "    off_diag = zeros(n)\n",
    "    for i = 1:n\n",
    "        if i % 2 == 1\n",
    "            val = a\n",
    "        else\n",
    "            val = b\n",
    "        end\n",
    "        ret[i, n-i+1] = val\n",
    "    end\n",
    "    ret\n",
    "end\n",
    "\n",
    "n=4\n",
    "is_diag(offd_mat(1,2,n)) # test, should be false"
   ]
  },
  {
   "cell_type": "markdown",
   "metadata": {},
   "source": [
    "We now implement Example 3.4"
   ]
  },
  {
   "cell_type": "code",
   "execution_count": 324,
   "metadata": {},
   "outputs": [
    {
     "data": {
      "text/plain": [
       "false"
      ]
     },
     "metadata": {},
     "output_type": "display_data"
    }
   ],
   "source": [
    "function non_derag(n)\n",
    "    d = [3; fill(2, n-1)]\n",
    "    ld = fill(1, n-1)\n",
    "    bd = Bidiagonal(d, ld, :L)\n",
    "    ret = bd + ones(n,n)\n",
    "    ret\n",
    "end\n",
    "\n",
    "n=4\n",
    "isdiag(non_derag(n)) # should be false"
   ]
  },
  {
   "cell_type": "markdown",
   "metadata": {},
   "source": [
    "We now implement Theorem 3.5, which states that $A\\sim B \\iff K_{r+1}(A) = K_{r+1}(B)$ "
   ]
  },
  {
   "cell_type": "code",
   "execution_count": 325,
   "metadata": {},
   "outputs": [
    {
     "data": {
      "text/plain": [
       "is_similar (generic function with 1 method)"
      ]
     },
     "metadata": {},
     "output_type": "display_data"
    }
   ],
   "source": [
    "function is_similar(A, B)\n",
    "    ra = r_func(A)\n",
    "    rb = r_func(B)\n",
    "    ret = Kₚ(A, ra+1) ≈ Kₚ(B, rb+1)\n",
    "    ret\n",
    "end\n"
   ]
  },
  {
   "cell_type": "markdown",
   "metadata": {},
   "source": [
    "Examples 3.6-3.8 are hard to implement, as they give a criteria for checking similarity to a very specific case of the matrix defined in Example 3.3. This is already implemented above in `is_similar`."
   ]
  },
  {
   "cell_type": "markdown",
   "metadata": {},
   "source": [
    "We now turn our attention to section 3.2 and define the polynomial $\\psi_A(z)$, defined as:\n",
    "$$\n",
    "\\psi_A(z) = \\begin{cases}\n",
    "\\sum_{i=0}^{r-1} c_iz^i + z^r, \\text{ if } |K_{r+1}(A)| = 0\\\\\n",
    "1, \\text{ else}\n",
    "\\end{cases}\n",
    "$$\n",
    "\n",
    "Where $\\mathbf{c} = (c_0,\\cdots, c_{r-1}, 1)$ denotes the unique vector with unitary last component in the kernel of $K_{r+1}(A)$; the kernel of $K_{r+1}(A)$ is 1-dimensional in this case as $|K_{r+1}(A)|=0$"
   ]
  },
  {
   "cell_type": "code",
   "execution_count": 326,
   "metadata": {},
   "outputs": [
    {
     "data": {
      "text/plain": [
       "ψ (generic function with 2 methods)"
      ]
     },
     "metadata": {},
     "output_type": "display_data"
    }
   ],
   "source": [
    "function ψ(A::Matrix{Any}) # Doesn't work\n",
    "    A = Matrix(A)\n",
    "    r = r_func(A)\n",
    "    Kr_o = Kₚ(A, r+1)\n",
    "    if abs(det(Kr_o)) > 1e-5\n",
    "        return Polynomial([1])\n",
    "    end\n",
    "    c_bar = vec(nullspace(Kr_o))\n",
    "    c = c_bar./(last(c_bar))\n",
    "    ret = Polynomial(c)\n",
    "    ret\n",
    "end\n"
   ]
  },
  {
   "cell_type": "markdown",
   "metadata": {},
   "source": [
    "And now we implement Theorem 3.11:"
   ]
  },
  {
   "cell_type": "code",
   "execution_count": 334,
   "metadata": {},
   "outputs": [
    {
     "data": {
      "text/plain": [
       "is_diag_poly (generic function with 1 method)"
      ]
     },
     "metadata": {},
     "output_type": "display_data"
    }
   ],
   "source": [
    "function is_diag_poly(A)\n",
    "    A = Matrix{BigFloat}(A)\n",
    "    n = size(A)[1]\n",
    "    poly = ψ(A)\n",
    "    ret = tr(poly(A)) ≤ 1e-6 || tr(poly(A)) ≥ 1e-6\n",
    "    ret\n",
    "end"
   ]
  },
  {
   "cell_type": "code",
   "execution_count": 335,
   "metadata": {},
   "outputs": [
    {
     "data": {
      "text/plain": [
       "true"
      ]
     },
     "metadata": {},
     "output_type": "display_data"
    }
   ],
   "source": [
    "is_diag_poly(test_mat)"
   ]
  },
  {
   "cell_type": "code",
   "execution_count": null,
   "metadata": {},
   "outputs": [],
   "source": []
  }
 ],
 "metadata": {
  "kernelspec": {
   "display_name": "Julia 1.7.1",
   "language": "julia",
   "name": "julia-1.7"
  },
  "language_info": {
   "file_extension": ".jl",
   "mimetype": "application/julia",
   "name": "julia",
   "version": "1.7.1"
  },
  "orig_nbformat": 4
 },
 "nbformat": 4,
 "nbformat_minor": 2
}
